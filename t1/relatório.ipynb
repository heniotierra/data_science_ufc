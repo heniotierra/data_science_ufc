{
 "cells": [
  {
   "cell_type": "markdown",
   "metadata": {},
   "source": [
    "Relatório de trabalho para nota parcial de disciplina de Ciência dos Dados da Universidade Federal do Ceará, 2019.1, ministrada pelo Professor Lívio Antonio Melo Freire."
   ]
  },
  {
   "cell_type": "markdown",
   "metadata": {},
   "source": [
    "Leitura inicial do arquivo de dados:"
   ]
  },
  {
   "cell_type": "code",
   "execution_count": null,
   "metadata": {},
   "outputs": [],
   "source": [
    "import numpy as np\n",
    "\n",
    "data = open('./abalone.data.2', 'r')\n",
    "arr = np.genfromtxt(data, delimiter=',')"
   ]
  },
  {
   "cell_type": "markdown",
   "metadata": {},
   "source": [
    "Total de categorias:"
   ]
  },
  {
   "cell_type": "code",
   "execution_count": null,
   "metadata": {},
   "outputs": [],
   "source": [
    "Y_categories = 29"
   ]
  },
  {
   "cell_type": "markdown",
   "metadata": {},
   "source": [
    "Inicialzação de arrays para manter dados para análises estatísticas:"
   ]
  },
  {
   "cell_type": "code",
   "execution_count": null,
   "metadata": {},
   "outputs": [],
   "source": [
    "accuracy_means = []\n",
    "hits_per_cat = np.zeros((Y_categories))\n",
    "total_per_cat = np.zeros((Y_categories))\n",
    "accur_per_cat = np.zeros((Y_categories))"
   ]
  },
  {
   "cell_type": "markdown",
   "metadata": {},
   "source": [
    "Loop para realizar o processo de treino e teste 100 vezes:"
   ]
  },
  {
   "cell_type": "code",
   "execution_count": null,
   "metadata": {},
   "outputs": [],
   "source": [
    "i = 0\n",
    "iters = 100\n",
    "\n",
    "while i < iters:\n",
    "  i += 1\n",
    "  print('iter:', i)"
   ]
  },
  {
   "cell_type": "markdown",
   "metadata": {},
   "source": [
    "Seleção randômica dados para treino (80%) e teste (20%):"
   ]
  },
  {
   "cell_type": "code",
   "execution_count": null,
   "metadata": {},
   "outputs": [],
   "source": [
    "  np.random.shuffle(arr)\n",
    "  eightyp = int(len(arr) * 0.8)\n",
    "  training_data = arr[:eightyp][:,:8]\n",
    "  testing_data = arr[eightyp:][:,:8]"
   ]
  },
  {
   "cell_type": "markdown",
   "metadata": {},
   "source": [
    "Seleção de esperanças de treino e de teste, respectivamente:"
   ]
  },
  {
   "cell_type": "code",
   "execution_count": null,
   "metadata": {},
   "outputs": [],
   "source": [
    "  c = arr[:,8].astype(int)\n",
    "  v = arr[:,8].astype(int)"
   ]
  },
  {
   "cell_type": "markdown",
   "metadata": {},
   "source": [
    "Definição de arrays de treino e de rótulos respectivos:"
   ]
  },
  {
   "cell_type": "code",
   "execution_count": null,
   "metadata": {},
   "outputs": [],
   "source": [
    "  X = training_data.T\n",
    "  Y = np.zeros((Y_categories,len(X[0])))\n",
    "\n",
    "  for j in range(len(X)): Y[c[j]-1][j] = 1"
   ]
  },
  {
   "cell_type": "markdown",
   "metadata": {},
   "source": [
    "Cálculo de matriz A:"
   ]
  },
  {
   "cell_type": "code",
   "execution_count": null,
   "metadata": {},
   "outputs": [],
   "source": [
    "  A = Y.dot(X.T).dot(np.linalg.pinv(X.dot(X.T)))"
   ]
  },
  {
   "cell_type": "markdown",
   "metadata": {},
   "source": [
    "Aplicação de dados da matriz de teste e análise de adequação do resultado para cada entrada da matriz:"
   ]
  },
  {
   "cell_type": "code",
   "execution_count": null,
   "metadata": {},
   "outputs": [],
   "source": [
    "  accuracy = []\n",
    "  for l in range(len(testing_data)):\n",
    "    x = testing_data[l]\n",
    "    rmax = A.dot(x).argmax(axis=0)\n",
    "    r = rmax + 1 == v[l]\n",
    "    accuracy.append(r)\n",
    "    if r: hits_per_cat[v[l]-1] += 1\n",
    "    total_per_cat[v[l]-1] += 1"
   ]
  },
  {
   "cell_type": "markdown",
   "metadata": {},
   "source": [
    "Guardando resultado de acurácia geral da iteração:"
   ]
  },
  {
   "cell_type": "code",
   "execution_count": null,
   "metadata": {},
   "outputs": [],
   "source": [
    "  accuracy_means.append(np.array(accuracy).mean())"
   ]
  },
  {
   "cell_type": "markdown",
   "metadata": {},
   "source": [
    "Apresentação dos resultados:"
   ]
  },
  {
   "cell_type": "code",
   "execution_count": null,
   "metadata": {},
   "outputs": [],
   "source": [
    "print('\\n---Resultados---\\n\\nAcurácia geral:', np.array(accuracy_means).mean())\n",
    "\n",
    "for i in range(Y_categories):\n",
    "  t = total_per_cat[i]\n",
    "  a = hits_per_cat[i]\n",
    "  p = (a * 100) / t if t > 0 else 0.0\n",
    "  accur_per_cat[i] = p\n",
    "  print('Acurácia de categoria %d: %f' % (i+1,p))\n",
    "\n",
    "print('Desvio padrão:', np.std(accur_per_cat))"
   ]
  }
 ],
 "metadata": {
  "kernelspec": {
   "display_name": "Python 3",
   "language": "python",
   "name": "python3"
  },
  "language_info": {
   "codemirror_mode": {
    "name": "ipython",
    "version": 3
   },
   "file_extension": ".py",
   "mimetype": "text/x-python",
   "name": "python",
   "nbconvert_exporter": "python",
   "pygments_lexer": "ipython3",
   "version": "3.5.2"
  }
 },
 "nbformat": 4,
 "nbformat_minor": 2
}
